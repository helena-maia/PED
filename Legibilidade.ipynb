{
 "cells": [
  {
   "cell_type": "markdown",
   "metadata": {},
   "source": [
    "# MC102W - Algoritmos e Programação de Computadores\n",
    "\n",
    "## Legibilidade\n",
    "\n",
    "Este material é baseado nas Propostas de Aprimoramento do Python (PEP, do inglês Python Enhancement Proposal), que consiste de um conjunto de documentos que especificam as funcionalidades do python e as melhores formas de uso. Em particular, o material é baseado no PEP 8 - um guia de estilo para códigos python - que contém convenções que auxiliam na melhoria da legibilidade e padronização dos códigos.\n",
    "\n",
    "### Formatação\n",
    "* **Indentação:** Utilize 4 espaços por nível (preferencialmente) ou tab. O python3 exige consistência de indentação, não permitindo mistura entre espaços e tabs. Em caso de quebra de linhas longas, outras regras de espaçamento podem ser aplicadas. Na definição/chamada de funções e estruturas condicionais, por exemplo, pode-se utilizar uma das opções a seguir: "
   ]
  },
  {
   "cell_type": "markdown",
   "metadata": {},
   "source": [
    "```python\n",
    "# Parâmetros excedentes alinhados com o parêntese inicial.\n",
    "def nome_longo_de_funcao(parametro_1, parametro_2,\n",
    "                         parametro_3, parametro_4):\n",
    "    <trecho_de_codigo>\n",
    "\n",
    "teste = nome_longo_de_funcao(parametro_1, parametro_2,\n",
    "                             parametro_3, parametro_4)\n",
    "<trecho_de_codigo>\n",
    "\n",
    "# espaços extras para distinguir entre parâmetros/expressões e o corpo da função/restante do código\n",
    "def nome_longo_de_funcao(\n",
    "      parametro_1, parametro_2,\n",
    "      parametro_3, parametro_4):\n",
    "    <trecho_de_codigo>\n",
    "\n",
    "teste = nome_longo_de_funcao(\n",
    "  parametro_1, parametro_2,\n",
    "  parametro_3, parametro_4)\n",
    "<trecho_de_codigo>\n",
    "\n",
    "if (primeiro_teste\n",
    "      and segundo_teste):\n",
    "    <trecho_de_codigo>\n",
    "\n",
    "```"
   ]
  },
  {
   "cell_type": "markdown",
   "metadata": {},
   "source": [
    "* **Linhas em branco:** Deixar duas linhas em branco entre declarações de funções e classes. No caso de métodos dentro de classes, deixar apenas uma linha. Agrupar linhas de código relacionadas, deixando uma linha em branco entre os grupos."
   ]
  },
  {
   "cell_type": "markdown",
   "metadata": {},
   "source": [
    "```python\n",
    "import biblioteca1\n",
    "import biblioteca2\n",
    "\n",
    "\n",
    "def funcao_1():\n",
    "    <trecho_de_codigo>\n",
    "\n",
    "\n",
    "def funcao_2():\n",
    "    <trecho_de_codigo>\n",
    "\n",
    "\n",
    "class Classe1:\n",
    "    def metodo_1:\n",
    "        <trecho_de_codigo>\n",
    "        \n",
    "    def metodo_2:\n",
    "        <trecho_de_codigo>\n",
    "\n",
    "        \n",
    "<inicializacoes>\n",
    "\n",
    "<codigo_com_subdivisoes>\n",
    "\n",
    "<saidas>\n",
    "        \n",
    "```"
   ]
  },
  {
   "cell_type": "markdown",
   "metadata": {},
   "source": [
    "* **Import:** Uma biblioteca por linha, exceto para subpacotes:"
   ]
  },
  {
   "cell_type": "markdown",
   "metadata": {},
   "source": [
    "``` python\n",
    "import biblioteca1\n",
    "import biblioteca2\n",
    "from biblioteca3 import subpacote1, subpacote2\n",
    "```"
   ]
  },
  {
   "cell_type": "markdown",
   "metadata": {},
   "source": [
    "### Espaços em expressões e instruções\n",
    "* **NÃO utilizar:**\n",
    "    * Imediatamente depois de ``(``, ``[`` e ``{`` ou antes de ``)``, ``]``, ``}``. Ex: ``if ( a > 0 )``, ``print( a )``\n",
    "    * Imediatamente antes de ``,`` ou ``:``. Ex: ``if (<expressão>) :`` ``print(a , b)``\n",
    "    * Imediatamente antes da abertura de parênteses de declaração/chamada de função: Ex: ``def function (arg1)``, ``print (a)``\n",
    "    * Imediatamente antes do acesso a um índice: Ex: ``vet [0]``\n",
    "    * Mais que um espaço de cada lado, em uma atribuição: Ex: ``a   =  1``\n",
    "\n",
    "* **Utilizar:**\n",
    "    * Apenas um espaço de cada lado dos operadores: ``=``, ``+=``, ``-=``, ``==``, ``<``, ``>``, ``!=``, ``<=``, ``>=``, ``in``, ``not in``, ``is``, ``is not``, ``and``, ``or``, ``not``.\n",
    "    * Apenas um espaço após vírgula: Ex: ``print(a, b)``,  ``def function(arg1, b)``\n",
    "\n",
    "\n",
    "No caso do espaço em torno de operadores, o espaçamento pode ser modificado de acordo com a precedência, desde que não ultrapasse um espaço de cada lado. Correto: ``y = x*2 + x*3``, ``y = x * (2+x) * 3`` Incorreto: ``y = x * 2+x * 3``\n",
    "\n",
    "### Comentários\n",
    "Comentar o código auxilia no entendimento dele tanto por outras pessoas, quanto pelo próprio autor, quando retoma um projeto após um tempo. O ideal é que os comentários sejam feitos em inglês, caso o autor tenha a intenção de publicar o código para pessoas estrangeiras. Comentários podem ser feitos em blocos ou em linha. \n",
    "\n",
    "* **Blocos:** É utilizado para explicar o trecho de código (em geral, diversas linhas) que segue o comentário e deve ser alinhado com o trecho. Cada linha começa com o caractere # e um espaço. Em caso de quebra de parágrafo, utilizar uma linha com apenas o caractere #. Deve conter frases completas."
   ]
  },
  {
   "cell_type": "markdown",
   "metadata": {},
   "source": [
    "```python\n",
    "    <trecho_de_codigo>\n",
    "\n",
    "    # Essa é a primeira frase de explicação do trecho a seguir. Essa é a segunda \n",
    "    # frase de explicação.\n",
    "    #\n",
    "    # Aqui, começamos um novo parágrafo da explicação. \n",
    "    <trecho_de_codigo>\n",
    "```"
   ]
  },
  {
   "cell_type": "markdown",
   "metadata": {},
   "source": [
    "* **Comentários em linha (inline):** Comentário curto que explica uma linha de código e é posicionado na mesma linha. Evitar comentários óbvios, que apenas traduz o código. Incorreto: ``a = 1 # a recebe 1``. Mas pode ser útil para justificar a atribuição: Ex: ``opcao = 1 # Opção 1 indica operação soma``\n",
    "\n",
    "* **Docstring:** Docstrings são strings de documentação utilizadas em funções, classes, métodos e módulos. O delimitador de docstrings é formado por 3 aspas duplas ``\"\"\" <docstring> \"\"\"`` e ela pode ser acessada pelo atributo especial ``__doc__``. As docstrings são particularmente úteis para acessar a documentação de um pacote importado, como o ``os`` no trecho abaixo, e para disponibilizar um pacote."
   ]
  },
  {
   "cell_type": "code",
   "execution_count": null,
   "metadata": {},
   "outputs": [],
   "source": [
    "import os\n",
    "\n",
    "def funcao():\n",
    "    \"\"\" Documentacao desta funcao \"\"\"\n",
    "    \n",
    "class Classe():\n",
    "    \"\"\" Documentacao com múltiplas linhas\n",
    "    \n",
    "    desta classe \"\"\"\n",
    "\n",
    "print(\"Documentação da função\", funcao.__doc__, sep = \"\\n\", end = \"\\n\\n\")\n",
    "print(\"Documentação da classe\", Classe.__doc__, sep = \"\\n\", end = \"\\n\\n\")\n",
    "print(\"Documentação do print\", print.__doc__, sep = \"\\n\", end = \"\\n\\n\")\n",
    "print(\"Documentação do pacote os\", os.__doc__, sep = \"\\n\", end = \"\\n\\n\")\n",
    "\n"
   ]
  },
  {
   "cell_type": "markdown",
   "metadata": {},
   "source": [
    "### Nomes\n",
    "Os nomes de variáveis, funções e classes devem ser sugestivos de acordo com o contexto do problema e finalidade de cada um. Nomes grande devem ser evitados. No PEP 8, alguns padrões são recomendados:\n",
    "* Para nomes de variáveis e funções, a convenção é utilizar letras minúsculas e separar as palavras com underline Ex: ``imprime_status()``, ``valor_atual``. \n",
    "* Para constantes, utilize letras maiúsculas e palavras separadas com underline EX: ``PRECO_MAXIMO = 20``. \n",
    "* Para classes, a primeira letra de cada palavra deve estar em maiúsculo e sem caractere de separação. Ex: ``class FichaCliente:``.\n",
    "\n",
    "Uma vez que os nomes de uma estrutura estão padronizados, é muito mais fácil identificar a estrutura ao longo do código. Similar aos comentários, os nomes devem ser definidos em inglês, caso o código seja publicado para estrangeiros."
   ]
  },
  {
   "cell_type": "markdown",
   "metadata": {},
   "source": [
    "### Boas práticas adicionais\n",
    "* Acrescentar um cabeçalho com algumas informações, como nome, data e breve descrição. Para a disciplina, a recomendação de cabeçalho é:\n",
    "\n",
    "```\n",
    "######################################################################\n",
    "## <disciplina><turma> - <ano><semestre>\n",
    "## Aluno: <nome>\n",
    "## RA: <ra>\n",
    "## Data: <data>\n",
    "## Descrição: <breve_descrição>\n",
    "######################################################################\n",
    "```\n",
    "Ou com comentário em múltiplas linhas:\n",
    "```\n",
    "'''\n",
    "<disciplina><turma> - <ano>.<semestre>\n",
    "Aluno: <nome>\n",
    "RA: <ra>\n",
    "Data: <data>\n",
    "Descrição: <breve_descrição>\n",
    "'''\n",
    "```\n",
    "* Utilizar funções quando um mesmo trecho é repetido com frequência.\n",
    "* Separar linhas grandes (a recomendação da PEP 8 é que as linhas não ultrapassem 72 caracteres). Ex:\n",
    "```\n",
    "texto = \"Lorem ipsum dolor sit amet, consectetur adipiscing elit, sed do eiusmod tempor incididunt ut labore et dolore magna aliqua. Ut enim ad minim veniam, quis nostrud exercitation ullamco laboris nisi ut aliquip\"\n",
    "```\n",
    "com quebra de linhas:\n",
    "```\n",
    "texto = \"Lorem ipsum dolor sit amet, consectetur adipiscing elit, sed do eiusmod\" \n",
    "texto += \"tempor incididunt ut labore et dolore magna aliqua. Ut enim ad minim\" \n",
    "texto += \"veniam, quis nostrud exercitation ullamco laboris nisi ut aliquip\"\n",
    "```\n",
    "Outra opção utilizando barra invertida:\n",
    "```\n",
    "with open('/caminho/para/algum/arquivo') as arquivo_1, open('/caminho/para/outro/arquivo', 'w') as arquivo_2:\n",
    "    arquivo_2.write(arquivo_1.read())\n",
    "```\n",
    "com quebra de linhas:\n",
    "```\n",
    "with open('/caminho/para/algum/arquivo') as arquivo_1, \\\n",
    "     open('/caminho/para/outro/arquivo', 'w') as arquivo_2:\n",
    "    arquivo_2.write(arquivo_1.read())\n",
    "```\n",
    "* Recomendação de agrupamento básico: imports, leituras e inicializações, método com possíveis subdivisões, saídas.\n",
    "\n",
    "\n",
    "### Exemplo\n",
    "Observe o código abaixo. Note que, é difícil compreender rapidamente o que está sendo feito no trecho da forma como está."
   ]
  },
  {
   "cell_type": "code",
   "execution_count": 1,
   "metadata": {},
   "outputs": [
    {
     "name": "stdout",
     "output_type": "stream",
     "text": [
      "91\n",
      "405\n"
     ]
    }
   ],
   "source": [
    "a=[1,2,3,4,5,6,7]\n",
    "b=[1,4,9,16,25,36,49]\n",
    "c=0\n",
    "for i in range(len(a)-1):\n",
    " c+=b[i]*(a[i+1]-a[i])\n",
    "print(c)\n",
    "a=[1,2,3,4,5,6,7]\n",
    "b=[0,5,22,57,116,205,330]\n",
    "c=0\n",
    "for i in range(len(a)-1):\n",
    " c+=b[i]*(a[i+1]-a[i])\n",
    "print(c)"
   ]
  },
  {
   "cell_type": "markdown",
   "metadata": {},
   "source": [
    "Após a modificação do código seguindo os itens recomendados neste texto, a finalidade do código fica muito mais evidente, sem alterar o resultado:"
   ]
  },
  {
   "cell_type": "code",
   "execution_count": 2,
   "metadata": {},
   "outputs": [
    {
     "name": "stdout",
     "output_type": "stream",
     "text": [
      "91\n",
      "405\n"
     ]
    }
   ],
   "source": [
    "######################################################################\n",
    "## MC102W - 2020.1\n",
    "## Aluno: John Smith\n",
    "## RA: 000000\n",
    "## Data: 24/04/2020\n",
    "## Descrição: Código para calcular a integral aproximada por retângulos. \n",
    "######################################################################\n",
    "\n",
    "def integral(x, f_x):\n",
    "    \"\"\" Função que recebe uma sequência de pontos x e sua imagem f_x, e \n",
    "    calcula a integral aproximada pela soma de retângulos.\"\"\"\n",
    "    \n",
    "    area_funcao = 0\n",
    "    \n",
    "    for i in range(len(x) - 1):\n",
    "        area_retangulo = f_x[i] * (x[i + 1] - x[i])\n",
    "        area_funcao += area_retangulo\n",
    "\n",
    "    return area_funcao\n",
    "    \n",
    "x = [1, 2, 3, 4, 5, 6, 7]\n",
    "f_x = [1, 4, 9, 16, 25, 36, 49] # f(x) = x**2\n",
    "\n",
    "area = integral(x, f_x)\n",
    "    \n",
    "print(area)\n",
    "    \n",
    "x = [1, 2, 3, 4, 5, 6, 7] \n",
    "f_x = [0, 5, 22, 57, 116, 205, 330] # f(x) = x**3 - 2*x + 1\n",
    "    \n",
    "area = integral(x, f_x)\n",
    "    \n",
    "print(area)"
   ]
  },
  {
   "cell_type": "markdown",
   "metadata": {},
   "source": [
    "## Referências\n",
    "* PEP8: https://www.python.org/dev/peps/pep-0008/#introduction\n",
    "* PEP8 (Tradução livre): https://wiki.python.org.br/GuiaDeEstilo"
   ]
  }
 ],
 "metadata": {
  "kernelspec": {
   "display_name": "Python 3",
   "language": "python",
   "name": "python3"
  },
  "language_info": {
   "codemirror_mode": {
    "name": "ipython",
    "version": 3
   },
   "file_extension": ".py",
   "mimetype": "text/x-python",
   "name": "python",
   "nbconvert_exporter": "python",
   "pygments_lexer": "ipython3",
   "version": "3.7.3"
  }
 },
 "nbformat": 4,
 "nbformat_minor": 2
}
