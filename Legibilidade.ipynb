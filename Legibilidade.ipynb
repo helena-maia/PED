{
 "cells": [
  {
   "cell_type": "markdown",
   "metadata": {},
   "source": [
    "# MC102W - Algoritmos e Programação de Computadores\n",
    "\n",
    "## Legibilidade\n",
    "\n",
    "* Cabeçalho\n",
    "* Nomes de variáveis\n",
    "* Separar em blocos \n",
    "* Comentários sucintos, mas não redundante\n",
    "* Utilizar funções\n",
    "* Espaço entre operadores e vírgula\n",
    "* Separar linhas grandes\n"
   ]
  },
  {
   "cell_type": "code",
   "execution_count": 4,
   "metadata": {},
   "outputs": [
    {
     "name": "stdout",
     "output_type": "stream",
     "text": [
      "91\n"
     ]
    }
   ],
   "source": [
    "a=[1,2,3,4,5,6,7]\n",
    "b=[1,4,9,16,25,36,49]\n",
    "c=0\n",
    "for i in range(len(a)-1):\n",
    "    c+=b[i]*(a[i+1]-a[i])\n",
    "print(c)"
   ]
  },
  {
   "cell_type": "code",
   "execution_count": 7,
   "metadata": {},
   "outputs": [
    {
     "name": "stdout",
     "output_type": "stream",
     "text": [
      "91\n"
     ]
    }
   ],
   "source": [
    "'''\n",
    "'''\n",
    "\n",
    "def integral(x, f_x):\n",
    "    area_funcao = 0\n",
    "    \n",
    "    for i in range(len(x) - 1):\n",
    "        area_retangulo = f_x[i] * (x[i + 1] - x[i])\n",
    "        area_funcao += area_retangulo\n",
    "        \n",
    "    return area_funcao\n",
    "    \n",
    "if __name__ == \"__main__\":\n",
    "    x = [1, 2, 3, 4, 5, 6, 7]\n",
    "    f_x = [1, 4, 9, 16, 25, 36, 49]\n",
    "\n",
    "    area = integral(x, f_x)\n",
    "    \n",
    "    print(area)\n"
   ]
  },
  {
   "cell_type": "code",
   "execution_count": null,
   "metadata": {},
   "outputs": [],
   "source": []
  },
  {
   "cell_type": "code",
   "execution_count": null,
   "metadata": {},
   "outputs": [],
   "source": []
  }
 ],
 "metadata": {
  "kernelspec": {
   "display_name": "Python 3",
   "language": "python",
   "name": "python3"
  },
  "language_info": {
   "codemirror_mode": {
    "name": "ipython",
    "version": 3
   },
   "file_extension": ".py",
   "mimetype": "text/x-python",
   "name": "python",
   "nbconvert_exporter": "python",
   "pygments_lexer": "ipython3",
   "version": "3.7.3"
  }
 },
 "nbformat": 4,
 "nbformat_minor": 2
}
