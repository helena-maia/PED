{
 "cells": [
  {
   "cell_type": "markdown",
   "metadata": {},
   "source": [
    "# MC102W - Algoritmos e Programação de Computadores\n",
    "\n",
    "## Legibilidade\n",
    "\n",
    "Este material é baseado nas Propostas de Aprimoramento do Python (PEP, do inglês Python Enhancement Proposal), que consiste de um conjunto de documentos que especificam as funcionalidades do python e as melhores formas de uso. Em particular, o material é baseado no PEP 8 - um guia de estilo para códigos python - que contém convenções que auxiliam na melhoria da legibilidade e padronização dos códigos.\n",
    "\n",
    "### Formatação\n",
    "* **Indentação:** Utilize 4 espaços por nível (preferencialmente) ou tab. O python3 exige consistência de indentação, não permitindo mistura entre espaços e tabs. Em caso de quebra de linhas longas, outras regras de espaçamento podem ser aplicadas. Na definição/chamada de funções e estruturas condicionais, por exemplo, pode-se utilizar uma das opções a seguir: "
   ]
  },
  {
   "cell_type": "markdown",
   "metadata": {},
   "source": [
    "```python\n",
    "# Parâmetros excedentes alinhados com o parêntese inicial.\n",
    "def nome_longo_de_funcao(parametro_1, parametro_2,\n",
    "                         parametro_3, parametro_4):\n",
    "    <trecho_de_codigo>\n",
    "\n",
    "teste = nome_longo_de_funcao(parametro_1, parametro_2,\n",
    "                             parametro_3, parametro_4)\n",
    "<trecho_de_codigo>\n",
    "\n",
    "# espaços extras para distinguir entre parâmetros/expressões e o corpo da função/restante do código\n",
    "def nome_longo_de_funcao(\n",
    "      parametro_1, parametro_2,\n",
    "      parametro_3, parametro_4):\n",
    "    <trecho_de_codigo>\n",
    "\n",
    "teste = nome_longo_de_funcao(\n",
    "  parametro_1, parametro_2,\n",
    "  parametro_3, parametro_4)\n",
    "<trecho_de_codigo>\n",
    "\n",
    "if (primeiro_teste\n",
    "      and segundo_teste):\n",
    "    <trecho_de_codigo>\n",
    "\n",
    "```"
   ]
  },
  {
   "cell_type": "markdown",
   "metadata": {},
   "source": [
    "* **Linhas em branco:** Deixar duas linhas em branco entre declarações de funções e classes. No caso de métodos dentro de classes, deixar apenas uma linha. Agrupar linhas de código relacionadas, deixando uma linha em branco entre os grupos. Recomendação de agrupamento mínimo: imports, definições, leituras e inicializações, código, saídas."
   ]
  },
  {
   "cell_type": "markdown",
   "metadata": {},
   "source": [
    "```python\n",
    "import biblioteca1\n",
    "import biblioteca2\n",
    "\n",
    "\n",
    "def funcao1():\n",
    "    <trecho_de_codigo>\n",
    "\n",
    "\n",
    "def funcao2():\n",
    "    <trecho_de_codigo>\n",
    "\n",
    "\n",
    "class classe1:\n",
    "    def metodo1:\n",
    "        <trecho_de_codigo>\n",
    "        \n",
    "    def metodo2:\n",
    "        <trecho_de_codigo>\n",
    "\n",
    "        \n",
    "<inicializacoes>\n",
    "\n",
    "<codigo_com_subdivisoes>\n",
    "\n",
    "<saidas>\n",
    "        \n",
    "```"
   ]
  },
  {
   "cell_type": "markdown",
   "metadata": {},
   "source": [
    "* **Import:** Uma biblioteca por linha, exceto para subpacotes:"
   ]
  },
  {
   "cell_type": "markdown",
   "metadata": {},
   "source": [
    "``` python\n",
    "import biblioteca1\n",
    "import biblioteca2\n",
    "from biblioteca3 import subpacote1, subpacote2\n",
    "```"
   ]
  },
  {
   "cell_type": "markdown",
   "metadata": {},
   "source": [
    "### Espaços em expressões e instruções\n",
    "* **NÃO utilizar:**\n",
    "    * Imediatamente depois de \\(, \\[ e \\{ ou antes de \\), \\], \\}. Ex: ``if ( a > 0 )``, ``print( a )``\n",
    "    * Imediatamente antes de , ou :. Ex: ``if (<expressão>) :`` ``print(a , b)``\n",
    "    * Imediatamente antes da abertura de parênteses de declaração/chamada de função: Ex: ``def function (arg1)``, ``print (a)``\n",
    "    * Imediatamente antes do acesso a um índice: Ex: ``vet [0]``\n",
    "    * Mais que um espaço de cada lado, em uma atribuição: Ex: ``a   =  1``\n",
    "\n",
    "* **Utilizar:**\n",
    "    * Apenas um espaço de cada lado dos operadores: =, +=, -=, ==, <, >, !=, <=, >=, in, not in, is, is not, and, or, not.\n",
    "    * Após vírgula: Ex: ``print(a, b)``,  ``def function(arg1, b)``\n",
    "\n",
    "\n",
    "No caso do espaço em torno de operadores, o espaçamento pode ser modificado de acordo com a precedência, desde que não ultrapasse um espaço de cada lado. Correto: ``y = x*2 + x*3``, ``y = x * (2+x) * 3`` Incorreto: ``y = x * 2+x * 3``\n",
    "\n",
    "### Comentários\n",
    "Comentar o código auxilia no entendimento dele tanto por outras pessoas, quanto pelo próprio autor quando retoma um projeto após um tempo. O ideal é que os comentários sejam feitos em inglês, caso o autor tenha a intenção de publicar o código para pessoas estrangeiras. Comentários podem ser feitos em blocos ou em linha. \n",
    "\n",
    "* **Blocos:** É utilizado para explicar o trecho de código (em geral, diversas linhas) que segue o comentário e deve ser alinhado com o trecho. Cada linha começa com o caractere # e um espaço. Em caso de quebra de parágrafo, utilizar uma linha com apenas o caractere #. Deve conter frases completas."
   ]
  },
  {
   "cell_type": "markdown",
   "metadata": {},
   "source": [
    "```python\n",
    "    <trecho_de_codigo>\n",
    "\n",
    "    # Essa é a primeira frase de explicação do trecho a seguir. Essa é a segunda \n",
    "    # frase de explicação.\n",
    "    #\n",
    "    # Aqui, começamos um novo parágrafo da explicação. \n",
    "    <trecho_de_codigo>\n",
    "```"
   ]
  },
  {
   "cell_type": "markdown",
   "metadata": {},
   "source": [
    "* **Comentários em linha (inline):** Comentário curto que explica uma linha de código e é posicionado na mesma linha. Evitar comentários óbvios, que apenas traduz o código. Incorreto: ``a = 1 # a recebe 1``. Mas pode ser útil para justificar a atribuição: Ex: ``opcao = 1 # Opção 1 indica operação soma``\n",
    "\n",
    "* **Docstring:**\n"
   ]
  },
  {
   "cell_type": "markdown",
   "metadata": {},
   "source": [
    "* Cabeçalho: Autor, Data, Descrição\n",
    "* Nomes sugestivos de variáveis \n",
    "* Comentários sucintos, mas não muito óbvios (tradução do código, p.ex. a = 0 # a recebe 0)\n",
    "* Utilizar funções, quando o trecho será repetido com frequência\n",
    "* Nome sugestivos das funções e classes\n",
    "* Padronizar nomes NomeDaClasse, nome_da_funcao, nomeDaFuncao...\n",
    "* Separar linhas grandes\n"
   ]
  },
  {
   "cell_type": "code",
   "execution_count": 1,
   "metadata": {},
   "outputs": [
    {
     "name": "stdout",
     "output_type": "stream",
     "text": [
      "91\n",
      "489\n"
     ]
    }
   ],
   "source": [
    "a=[1,2,3,4,5,6,7]\n",
    "b=[1,4,9,16,25,36,49]\n",
    "c=0\n",
    "for i in range(len(a)-1):\n",
    "    c+=b[i]*(a[i+1]-a[i])\n",
    "print(c)\n",
    "\n",
    "a=[1,2,3,4,5,6,7]\n",
    "b=[4,13,34,73,136,229,358]\n",
    "c=0\n",
    "for i in range(len(a)-1):\n",
    "    c+=b[i]*(a[i+1]-a[i])\n",
    "print(c)"
   ]
  },
  {
   "cell_type": "code",
   "execution_count": 2,
   "metadata": {},
   "outputs": [
    {
     "name": "stdout",
     "output_type": "stream",
     "text": [
      "91\n",
      "489\n"
     ]
    }
   ],
   "source": [
    "'''\n",
    "'''\n",
    "\n",
    "def integral(x, f_x):\n",
    "    area_funcao = 0\n",
    "    \n",
    "    for i in range(len(x) - 1):\n",
    "        area_retangulo = f_x[i] * (x[i + 1] - x[i])\n",
    "        area_funcao += area_retangulo\n",
    "        \n",
    "    return area_funcao\n",
    "    \n",
    "if __name__ == \"__main__\":\n",
    "    x = [1, 2, 3, 4, 5, 6, 7]\n",
    "    f_x = [1, 4, 9, 16, 25, 36, 49]\n",
    "\n",
    "    area = integral(x, f_x)\n",
    "    \n",
    "    print(area)\n",
    "    \n",
    "    x = [1, 2, 3, 4, 5, 6, 7]\n",
    "    f_x = [4, 13, 34, 73, 136, 229, 358]\n",
    "    \n",
    "    area = integral(x, f_x)\n",
    "    \n",
    "    print(area)\n"
   ]
  },
  {
   "cell_type": "markdown",
   "metadata": {},
   "source": [
    "## Referências\n",
    "* PEP8: https://www.python.org/dev/peps/pep-0008/#introduction\n",
    "* PEP8 (Tradução livre): https://wiki.python.org.br/GuiaDeEstilo"
   ]
  }
 ],
 "metadata": {
  "kernelspec": {
   "display_name": "Python 3",
   "language": "python",
   "name": "python3"
  },
  "language_info": {
   "codemirror_mode": {
    "name": "ipython",
    "version": 3
   },
   "file_extension": ".py",
   "mimetype": "text/x-python",
   "name": "python",
   "nbconvert_exporter": "python",
   "pygments_lexer": "ipython3",
   "version": "3.7.3"
  }
 },
 "nbformat": 4,
 "nbformat_minor": 2
}
